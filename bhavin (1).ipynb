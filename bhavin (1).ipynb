{
 "cells": [
  {
   "cell_type": "markdown",
   "id": "addc567c-ccf5-497d-a78b-d4dc87fcd7e6",
   "metadata": {},
   "source": [
    "Hello World"
   ]
  },
  {
   "cell_type": "code",
   "execution_count": null,
   "id": "6cca62fb-82d9-418e-b320-550bf16cd96e",
   "metadata": {},
   "outputs": [],
   "source": []
  },
  {
   "cell_type": "code",
   "execution_count": null,
   "id": "c0cbe7bd-270d-4603-8695-5749abd18199",
   "metadata": {},
   "outputs": [],
   "source": []
  },
  {
   "cell_type": "code",
   "execution_count": null,
   "id": "34f49d8b-741b-406e-9b93-0168bcf88aaf",
   "metadata": {
    "tags": []
   },
   "outputs": [],
   "source": [
    "a = 3\n",
    "b = 5\n",
    "print(a + b)"
   ]
  },
  {
   "cell_type": "markdown",
   "id": "a9b273d0-e8aa-4a54-8910-c0d6452be898",
   "metadata": {},
   "source": [
    "hello"
   ]
  },
  {
   "cell_type": "code",
   "execution_count": null,
   "id": "46ef3555-71c2-443d-80c3-47b3cb789f7c",
   "metadata": {},
   "outputs": [],
   "source": []
  }
 ],
 "metadata": {
  "kernelspec": {
   "display_name": "Python",
   "language": "python",
   "name": "conda-env-python-py"
  },
  "language_info": {
   "codemirror_mode": {
    "name": "ipython",
    "version": 3
   },
   "file_extension": ".py",
   "mimetype": "text/x-python",
   "name": "python",
   "nbconvert_exporter": "python",
   "pygments_lexer": "ipython3",
   "version": "3.7.12"
  }
 },
 "nbformat": 4,
 "nbformat_minor": 5
}
